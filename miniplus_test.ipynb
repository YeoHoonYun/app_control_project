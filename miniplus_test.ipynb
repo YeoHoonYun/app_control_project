{
 "cells": [
  {
   "cell_type": "code",
   "execution_count": 70,
   "metadata": {},
   "outputs": [],
   "source": [
    "import time\n",
    "import unittest\n",
    "from appium import webdriver"
   ]
  },
  {
   "cell_type": "code",
   "execution_count": 71,
   "metadata": {},
   "outputs": [],
   "source": [
    "def reservation_join():\n",
    "    driver.find_element_by_xpath(\n",
    "        '/hierarchy[@index=\"0\"]/android.widget.FrameLayout[@index=\"0\"]/android.widget.LinearLayout[@index=\"0\"]/android.widget.FrameLayout[@index=\"0\"]/android.widget.LinearLayout[@index=\"0\"]/android.widget.FrameLayout[@index=\"0\"]/android.widget.FrameLayout[@index=\"0\"]/android.webkit.WebView[@index=\"0\"]/android.webkit.WebView[@index=\"0\"]/android.view.View[@index=\"0\"]/android.view.View[1]/android.view.View[@index=\"0\"]/android.widget.Button').click()\n",
    "    time.sleep(3)\n",
    "    driver.find_element_by_xpath(\n",
    "        '/hierarchy[@index=\"0\"]/android.widget.FrameLayout[@index=\"0\"]/android.widget.LinearLayout[@index=\"0\"]/android.widget.FrameLayout[@index=\"0\"]/android.widget.LinearLayout[@index=\"0\"]/android.widget.FrameLayout[@index=\"0\"]/android.widget.FrameLayout[@index=\"0\"]/android.webkit.WebView[@index=\"0\"]/android.webkit.WebView[@index=\"0\"]/android.view.View[@index=\"0\"]/android.view.View[2]/android.view.View[@index=\"0\"]/android.view.View[2]/android.view.View[1]/android.view.View[2]/android.widget.TextView[@index=\"0\"]').click()\n",
    "    time.sleep(1)\n",
    "    driver.find_element_by_xpath(\n",
    "        '/hierarchy[@index=\"0\"]/android.widget.FrameLayout[@index=\"0\"]/android.widget.LinearLayout[@index=\"0\"]/android.widget.FrameLayout[@index=\"0\"]/android.widget.LinearLayout[@index=\"0\"]/android.widget.FrameLayout[@index=\"0\"]/android.widget.FrameLayout[@index=\"0\"]/android.webkit.WebView[@index=\"0\"]/android.webkit.WebView[@index=\"0\"]/android.view.View[@index=\"0\"]/android.view.View[2]/android.view.View[@index=\"0\"]/android.view.View[3]/android.widget.EditText[@index=\"1\"]').send_keys(\n",
    "        ID)\n",
    "    time.sleep(1)\n",
    "    driver.find_element_by_xpath(\n",
    "        '/hierarchy[@index=\"0\"]/android.widget.FrameLayout[@index=\"0\"]/android.widget.LinearLayout[@index=\"0\"]/android.widget.FrameLayout[@index=\"0\"]/android.widget.LinearLayout[@index=\"0\"]/android.widget.FrameLayout[@index=\"0\"]/android.widget.FrameLayout[@index=\"0\"]/android.webkit.WebView[@index=\"0\"]/android.webkit.WebView[@index=\"0\"]/android.view.View[@index=\"0\"]/android.view.View[2]/android.view.View[@index=\"0\"]/android.view.View[4]/android.widget.EditText[@index=\"1\"]').send_keys(\n",
    "        PW)\n",
    "    driver.find_elements_by_xpath(\n",
    "        '/hierarchy[@index=\"0\"]/android.widget.FrameLayout[@index=\"0\"]/android.widget.LinearLayout[@index=\"0\"]/android.widget.FrameLayout[@index=\"0\"]/android.widget.LinearLayout[@index=\"0\"]/android.widget.FrameLayout[@index=\"0\"]/android.widget.FrameLayout[@index=\"0\"]/android.webkit.WebView[@index=\"0\"]/android.webkit.WebView[@index=\"0\"]/android.view.View[@index=\"0\"]/android.view.View[2]/android.view.View[@index=\"0\"]/android.view.View[6]/android.view.View[@index=\"0\"]')[\n",
    "        0].click()\n",
    "    time.sleep(1)\n",
    "    driver.find_elements_by_xpath(\n",
    "        '/hierarchy[@index=\"0\"]/android.widget.FrameLayout[@index=\"0\"]/android.widget.LinearLayout[@index=\"0\"]/android.widget.FrameLayout[@index=\"0\"]/android.widget.LinearLayout[@index=\"0\"]/android.widget.FrameLayout[@index=\"0\"]/android.widget.FrameLayout[@index=\"0\"]/android.webkit.WebView[@index=\"0\"]/android.webkit.WebView[@index=\"0\"]/android.view.View[@index=\"0\"]/android.view.View[@index=\"0\"]/android.widget.ListView[2]/android.view.View[1]/android.view.View')[\n",
    "        0].click()"
   ]
  },
  {
   "cell_type": "code",
   "execution_count": 72,
   "metadata": {},
   "outputs": [],
   "source": [
    "def reservation_config():\n",
    "    # 버스/시간 설정\n",
    "    print(\"시간 설정 버튼\")\n",
    "    t = driver.find_elements_by_xpath(\n",
    "    '/hierarchy[@index=\"0\"]/android.widget.FrameLayout[@index=\"0\"]/android.widget.LinearLayout[@index=\"0\"]/android.widget.FrameLayout[@index=\"0\"]/android.widget.LinearLayout[@index=\"0\"]/android.widget.FrameLayout[@index=\"0\"]/android.widget.FrameLayout[@index=\"0\"]/android.webkit.WebView[@index=\"0\"]/android.webkit.WebView[@index=\"0\"]/android.view.View[@index=\"0\"]/android.view.View[2]/android.view.View[1]/android.view.View[1]/android.view.View[@index=\"0\"]/android.view.View[@index=\"0\"]/android.widget.ListView[@index=\"1\"]/android.view.View[1]/android.view.View[@index=\"0\"]/android.view.View')[0]\n",
    "    t.click()\n",
    "    time.sleep(2)\n",
    "    print(\"시간 클릭\")\n",
    "    driver.find_element_by_xpath(\n",
    "        '/hierarchy[@index=\"0\"]/android.widget.FrameLayout[@index=\"0\"]/android.widget.LinearLayout[@index=\"0\"]/android.widget.FrameLayout[@index=\"0\"]/android.widget.LinearLayout[@index=\"0\"]/android.widget.FrameLayout[@index=\"0\"]/android.widget.FrameLayout[@index=\"0\"]/android.webkit.WebView[@index=\"0\"]/android.webkit.WebView[@index=\"0\"]/android.view.View[@index=\"0\"]/android.view.View[2]/android.view.View[4]/android.view.View[@index=\"0\"]/android.view.View[@index=\"0\"]/android.view.View[3]/android.view.View[@index=\"0\"]//android.view.View[2]').click()\n",
    "    time.sleep(1)\n",
    "    print(\"확인 버튼 클릭\")\n",
    "    driver.find_element_by_xpath(\n",
    "        '/hierarchy[@index=\"0\"]/android.widget.FrameLayout[@index=\"0\"]/android.widget.LinearLayout[@index=\"0\"]/android.widget.FrameLayout[@index=\"0\"]/android.widget.LinearLayout[@index=\"0\"]/android.widget.FrameLayout[@index=\"0\"]/android.widget.FrameLayout[@index=\"0\"]/android.webkit.WebView[@index=\"0\"]/android.webkit.WebView[@index=\"0\"]/android.view.View[@index=\"0\"]/android.view.View[2]/android.view.View[4]/android.view.View[@index=\"0\"]/android.view.View[@index=\"0\"]/android.view.View[6]/android.view.View[@index=\"0\"]').click()\n",
    "    time.sleep(2)\n",
    "    \n",
    "    # 출발지 설정\n",
    "    print(\"출발지 버튼 클릭\")\n",
    "    s = driver.find_elements_by_xpath(\n",
    "        '/hierarchy[@index=\"0\"]/android.widget.FrameLayout[@index=\"0\"]/android.widget.LinearLayout[@index=\"0\"]/android.widget.FrameLayout[@index=\"0\"]/android.widget.LinearLayout[@index=\"0\"]/android.widget.FrameLayout[@index=\"0\"]/android.widget.FrameLayout[@index=\"0\"]/android.webkit.WebView[@index=\"0\"]/android.webkit.WebView[@index=\"0\"]/android.view.View[@index=\"0\"]/android.view.View[2]/android.view.View[1]/android.view.View[1]/android.view.View[@index=\"0\"]/android.view.View[@index=\"0\"]/android.widget.ListView[@index=\"1\"]//android.view.View')[3]\n",
    "    s.click()\n",
    "    time.sleep(2)\n",
    "    print(\"출발지 클릭\")\n",
    "    driver.find_elements_by_xpath(\n",
    "        '/hierarchy[@index=\"0\"]/android.widget.FrameLayout[@index=\"0\"]/android.widget.LinearLayout[@index=\"0\"]/android.widget.FrameLayout[@index=\"0\"]/android.widget.LinearLayout[@index=\"0\"]/android.widget.FrameLayout[@index=\"0\"]/android.widget.FrameLayout[@index=\"0\"]/android.webkit.WebView[@index=\"0\"]/android.webkit.WebView[@index=\"0\"]/android.view.View[@index=\"0\"]/android.view.View[2]/android.view.View[4]/android.view.View[@index=\"0\"]/android.view.View[@index=\"0\"]/android.view.View[3]/android.view.View[@index=\"0\"]/android.view.View')[1].click()\n",
    "    time.sleep(1)\n",
    "    print(\"확인 버튼 클릭\")\n",
    "    driver.find_element_by_xpath(\n",
    "        '/hierarchy[@index=\"0\"]/android.widget.FrameLayout[@index=\"0\"]/android.widget.LinearLayout[@index=\"0\"]/android.widget.FrameLayout[@index=\"0\"]/android.widget.LinearLayout[@index=\"0\"]/android.widget.FrameLayout[@index=\"0\"]/android.widget.FrameLayout[@index=\"0\"]/android.webkit.WebView[@index=\"0\"]/android.webkit.WebView[@index=\"0\"]/android.view.View[@index=\"0\"]/android.view.View[2]/android.view.View[4]/android.view.View[@index=\"0\"]/android.view.View[@index=\"0\"]/android.view.View[5]/android.view.View[@index=\"0\"]').click()\n",
    "    time.sleep(2)\n",
    "    \n",
    "    # 도착지 설정\n",
    "    print(\"도착지 버튼 클릭\")\n",
    "    e = driver.find_element_by_xpath(\n",
    "        '/hierarchy[@index=\"0\"]/android.widget.FrameLayout[@index=\"0\"]/android.widget.LinearLayout[@index=\"0\"]/android.widget.FrameLayout[@index=\"0\"]/android.widget.LinearLayout[@index=\"0\"]/android.widget.FrameLayout[@index=\"0\"]/android.widget.FrameLayout[@index=\"0\"]/android.webkit.WebView[@index=\"0\"]/android.webkit.WebView[@index=\"0\"]/android.view.View[@index=\"0\"]/android.view.View[2]/android.view.View[1]/android.view.View[1]/android.view.View[@index=\"0\"]/android.view.View[@index=\"0\"]/android.widget.ListView[@index=\"1\"]/android.view.View[3]/android.view.View[@index=\"0\"]/android.view.View[@index=\"0\"]')\n",
    "    e.click()\n",
    "    time.sleep(2)\n",
    "    print(\"도착지 클릭\")\n",
    "    driver.find_elements_by_xpath(\n",
    "        '/hierarchy[@index=\"0\"]/android.widget.FrameLayout[@index=\"0\"]/android.widget.LinearLayout[@index=\"0\"]/android.widget.FrameLayout[@index=\"0\"]/android.widget.LinearLayout[@index=\"0\"]/android.widget.FrameLayout[@index=\"0\"]/android.widget.FrameLayout[@index=\"0\"]/android.webkit.WebView[@index=\"0\"]/android.webkit.WebView[@index=\"0\"]/android.view.View[@index=\"0\"]/android.view.View[2]/android.view.View[4]/android.view.View[@index=\"0\"]/android.view.View[@index=\"0\"]/android.view.View[3]/android.view.View[@index=\"0\"]//android.view.View')[1].click()\n",
    "    time.sleep(1)\n",
    "    print(\"확인 버튼 클릭\")\n",
    "    driver.find_element_by_xpath(\n",
    "        '/hierarchy[@index=\"0\"]/android.widget.FrameLayout[@index=\"0\"]/android.widget.LinearLayout[@index=\"0\"]/android.widget.FrameLayout[@index=\"0\"]/android.widget.LinearLayout[@index=\"0\"]/android.widget.FrameLayout[@index=\"0\"]/android.widget.FrameLayout[@index=\"0\"]/android.webkit.WebView[@index=\"0\"]/android.webkit.WebView[@index=\"0\"]/android.view.View[@index=\"0\"]/android.view.View[2]/android.view.View[4]/android.view.View[@index=\"0\"]/android.view.View[@index=\"0\"]/android.view.View[5]').click()\n",
    "    time.sleep(2)\n",
    "    \n",
    "    print(\"확정 버튼 클릭\")\n",
    "    driver.find_element_by_xpath(\n",
    "        '/hierarchy[@index=\"0\"]/android.widget.FrameLayout[@index=\"0\"]/android.widget.LinearLayout[@index=\"0\"]/android.widget.FrameLayout[@index=\"0\"]/android.widget.LinearLayout[@index=\"0\"]/android.widget.FrameLayout[@index=\"0\"]/android.widget.FrameLayout[@index=\"0\"]/android.webkit.WebView[@index=\"0\"]/android.webkit.WebView[@index=\"0\"]/android.view.View[@index=\"0\"]/android.view.View[2]/android.view.View[1]/android.view.View[1]/android.view.View[@index=\"0\"]/android.view.View[@index=\"0\"]/android.view.View[2]/android.widget.TextView').click()"
   ]
  },
  {
   "cell_type": "code",
   "execution_count": 73,
   "metadata": {},
   "outputs": [],
   "source": [
    "def reservation_process():\n",
    "    driver.find_element_by_xpath(\n",
    "        '/hierarchy[@index=\"0\"]/android.widget.FrameLayout[@index=\"0\"]/android.widget.LinearLayout[@index=\"0\"]/android.widget.FrameLayout[@index=\"0\"]/android.widget.LinearLayout[@index=\"0\"]/android.widget.FrameLayout[@index=\"0\"]/android.widget.FrameLayout[@index=\"0\"]/android.webkit.WebView[@index=\"0\"]/android.webkit.WebView[@index=\"0\"]/android.view.View[@index=\"0\"]/android.view.View[2]/android.view.View[2]/android.widget.ListView[@index=\"0\"]/android.view.View[2]/android.view.View[@index=\"0\"]').click()\n",
    "    time.sleep(1)\n",
    "    driver.find_element_by_xpath(\n",
    "        '/hierarchy[@index=\"0\"]/android.widget.FrameLayout[@index=\"0\"]/android.widget.LinearLayout[@index=\"0\"]/android.widget.FrameLayout[@index=\"0\"]/android.widget.LinearLayout[@index=\"0\"]/android.widget.FrameLayout[@index=\"0\"]/android.widget.FrameLayout[@index=\"0\"]/android.webkit.WebView[@index=\"0\"]/android.webkit.WebView[@index=\"0\"]/android.view.View[@index=\"0\"]/android.view.View[2]/android.view.View[@index=\"0\"]/android.view.View[2]/android.view.View[1]/android.view.View[@index=\"0\"]/android.widget.GridView[@index=\"0\"]/android.view.View[5]//android.view.View[5]').click()\n",
    "    time.sleep(1)\n",
    "    driver.find_element_by_xpath(\n",
    "        '/hierarchy[@index=\"0\"]/android.widget.FrameLayout[@index=\"0\"]/android.widget.LinearLayout[@index=\"0\"]/android.widget.FrameLayout[@index=\"0\"]/android.widget.LinearLayout[@index=\"0\"]/android.widget.FrameLayout[@index=\"0\"]/android.widget.FrameLayout[@index=\"0\"]/android.webkit.WebView[@index=\"0\"]/android.webkit.WebView[@index=\"0\"]/android.view.View[@index=\"0\"]/android.view.View[2]/android.view.View[@index=\"0\"]/android.view.View[2]/android.view.View[2]//android.widget.Button[2]').click()\n",
    "    time.sleep(1)\n",
    "    driver.find_element_by_xpath(\n",
    "        '/hierarchy[@index=\"0\"]/android.widget.FrameLayout[@index=\"0\"]/android.widget.LinearLayout[@index=\"0\"]/android.widget.FrameLayout[@index=\"0\"]/android.widget.LinearLayout[@index=\"0\"]/android.widget.FrameLayout[@index=\"0\"]/android.widget.FrameLayout[@index=\"0\"]/android.webkit.WebView[@index=\"0\"]/android.webkit.WebView[@index=\"0\"]/android.view.View[@index=\"0\"]/android.view.View[2]/android.view.View[3]/android.widget.ListView[@index=\"0\"]/android.view.View[2]/android.view.View[@index=\"0\"]').click()\n",
    "    time.sleep(1)\n",
    "    driver.find_element_by_xpath(\n",
    "        '/hierarchy[@index=\"0\"]/android.widget.FrameLayout[@index=\"0\"]/android.widget.LinearLayout[@index=\"0\"]/android.widget.FrameLayout[@index=\"0\"]/android.widget.LinearLayout[@index=\"0\"]/android.widget.FrameLayout[@index=\"0\"]/android.widget.FrameLayout[@index=\"0\"]/android.webkit.WebView[@index=\"0\"]/android.webkit.WebView[@index=\"0\"]/android.view.View[@index=\"0\"]/android.view.View[2]/android.view.View[@index=\"0\"]/android.view.View[@index=\"0\"]/android.view.View[3]//android.view.View[1]').click()\n",
    "    time.sleep(1)\n",
    "    driver.find_element_by_xpath(\n",
    "        '/hierarchy[@index=\"0\"]/android.widget.FrameLayout[@index=\"0\"]/android.widget.LinearLayout[@index=\"0\"]/android.widget.FrameLayout[@index=\"0\"]/android.widget.LinearLayout[@index=\"0\"]/android.widget.FrameLayout[@index=\"0\"]/android.widget.FrameLayout[@index=\"0\"]/android.webkit.WebView[@index=\"0\"]/android.webkit.WebView[@index=\"0\"]/android.view.View[@index=\"0\"]/android.view.View[2]/android.view.View[@index=\"0\"]/android.view.View[@index=\"0\"]/android.view.View[1]/android.view.View[@index=\"0\"]/android.view.View[@index=\"0\"]/android.widget.ListView[@index=\"3\"]/android.view.View[%s]/android.widget.Button[@index=\"0\"]' % NUM).click()\n",
    "    time.sleep(1)\n",
    "    driver.find_element_by_xpath(\n",
    "        '/hierarchy[@index=\"0\"]/android.widget.FrameLayout[@index=\"0\"]/android.widget.LinearLayout[@index=\"0\"]/android.widget.FrameLayout[@index=\"0\"]/android.widget.LinearLayout[@index=\"0\"]/android.widget.FrameLayout[@index=\"0\"]/android.widget.FrameLayout[@index=\"0\"]/android.webkit.WebView[@index=\"0\"]/android.webkit.WebView[@index=\"0\"]/android.view.View[@index=\"0\"]/android.view.View[2]/android.view.View[@index=\"0\"]/android.view.View[@index=\"0\"]/android.view.View[2]//android.widget.Button[2]').click()\n",
    "    time.sleep(1)\n",
    "    driver.find_element_by_xpath(\n",
    "        '/hierarchy[@index=\"0\"]/android.widget.FrameLayout[@index=\"0\"]/android.widget.LinearLayout[@index=\"0\"]/android.widget.FrameLayout[@index=\"0\"]/android.widget.LinearLayout[@index=\"0\"]/android.widget.FrameLayout[@index=\"0\"]/android.widget.FrameLayout[@index=\"0\"]/android.webkit.WebView[@index=\"0\"]/android.webkit.WebView[@index=\"0\"]/android.view.View[@index=\"0\"]/android.view.View[2]/android.view.View[@index=\"0\"]/android.view.View[@index=\"0\"]/android.view.View[3]//android.view.View[1]').click()"
   ]
  },
  {
   "cell_type": "code",
   "execution_count": 74,
   "metadata": {},
   "outputs": [],
   "source": [
    "#사용자 정보\n",
    "ID = \"cjswo9207@naver.com\"\n",
    "PW = \"0rhk@tkdl#\"\n",
    "NUM = 43"
   ]
  },
  {
   "cell_type": "code",
   "execution_count": 75,
   "metadata": {},
   "outputs": [],
   "source": [
    "# 실행 디바이스 정보\n",
    "desired_caps = dict(\n",
    "    platformName='Android',\n",
    "    platformVersion='11',\n",
    "    # automationName='miniplus_auto',\n",
    "    deviceName='Android Emulator',\n",
    "    app='C:\\\\Users\\\\tlsot\\IdeaProjects\\\\app_control_project\\\\MiRi플러스_v3.8_apkpure.com.apk'\n",
    ")"
   ]
  },
  {
   "cell_type": "code",
   "execution_count": 76,
   "metadata": {},
   "outputs": [],
   "source": [
    "# 실행\n",
    "driver = webdriver.Remote('http://localhost:4723/wd/hub', desired_caps)\n",
    "time.sleep(10)"
   ]
  },
  {
   "cell_type": "code",
   "execution_count": 77,
   "metadata": {},
   "outputs": [
    {
     "name": "stderr",
     "output_type": "stream",
     "text": [
      "D:\\anaconda3\\lib\\site-packages\\ipykernel_launcher.py:3: DeprecationWarning: find_element_by_* commands are deprecated. Please use find_element() instead\n",
      "  This is separate from the ipykernel package so we can avoid doing imports until\n",
      "D:\\anaconda3\\lib\\site-packages\\ipykernel_launcher.py:6: DeprecationWarning: find_element_by_* commands are deprecated. Please use find_element() instead\n",
      "  \n",
      "D:\\anaconda3\\lib\\site-packages\\ipykernel_launcher.py:9: DeprecationWarning: find_element_by_* commands are deprecated. Please use find_element() instead\n",
      "  if __name__ == '__main__':\n",
      "D:\\anaconda3\\lib\\site-packages\\ipykernel_launcher.py:13: DeprecationWarning: find_element_by_* commands are deprecated. Please use find_element() instead\n",
      "  del sys.path[0]\n",
      "D:\\anaconda3\\lib\\site-packages\\ipykernel_launcher.py:16: DeprecationWarning: find_elements_by_* commands are deprecated. Please use find_elements() instead\n",
      "  app.launch_new_instance()\n",
      "D:\\anaconda3\\lib\\site-packages\\ipykernel_launcher.py:20: DeprecationWarning: find_elements_by_* commands are deprecated. Please use find_elements() instead\n"
     ]
    }
   ],
   "source": [
    "# 가입\n",
    "reservation_join()\n",
    "time.sleep(7)"
   ]
  },
  {
   "cell_type": "code",
   "execution_count": 78,
   "metadata": {},
   "outputs": [
    {
     "name": "stdout",
     "output_type": "stream",
     "text": [
      "시간 설정 버튼\n"
     ]
    },
    {
     "name": "stderr",
     "output_type": "stream",
     "text": [
      "D:\\anaconda3\\lib\\site-packages\\ipykernel_launcher.py:5: DeprecationWarning: find_elements_by_* commands are deprecated. Please use find_elements() instead\n",
      "  \"\"\"\n"
     ]
    },
    {
     "name": "stdout",
     "output_type": "stream",
     "text": [
      "시간 클릭\n"
     ]
    },
    {
     "name": "stderr",
     "output_type": "stream",
     "text": [
      "D:\\anaconda3\\lib\\site-packages\\ipykernel_launcher.py:10: DeprecationWarning: find_element_by_* commands are deprecated. Please use find_element() instead\n",
      "  # Remove the CWD from sys.path while we load stuff.\n"
     ]
    },
    {
     "name": "stdout",
     "output_type": "stream",
     "text": [
      "확인 버튼 클릭\n"
     ]
    },
    {
     "name": "stderr",
     "output_type": "stream",
     "text": [
      "D:\\anaconda3\\lib\\site-packages\\ipykernel_launcher.py:14: DeprecationWarning: find_element_by_* commands are deprecated. Please use find_element() instead\n",
      "  \n"
     ]
    },
    {
     "name": "stdout",
     "output_type": "stream",
     "text": [
      "출발지 버튼 클릭\n"
     ]
    },
    {
     "name": "stderr",
     "output_type": "stream",
     "text": [
      "D:\\anaconda3\\lib\\site-packages\\ipykernel_launcher.py:20: DeprecationWarning: find_elements_by_* commands are deprecated. Please use find_elements() instead\n"
     ]
    },
    {
     "name": "stdout",
     "output_type": "stream",
     "text": [
      "출발지 클릭\n"
     ]
    },
    {
     "name": "stderr",
     "output_type": "stream",
     "text": [
      "D:\\anaconda3\\lib\\site-packages\\ipykernel_launcher.py:25: DeprecationWarning: find_elements_by_* commands are deprecated. Please use find_elements() instead\n"
     ]
    },
    {
     "name": "stdout",
     "output_type": "stream",
     "text": [
      "확인 버튼 클릭\n"
     ]
    },
    {
     "name": "stderr",
     "output_type": "stream",
     "text": [
      "D:\\anaconda3\\lib\\site-packages\\ipykernel_launcher.py:29: DeprecationWarning: find_element_by_* commands are deprecated. Please use find_element() instead\n"
     ]
    },
    {
     "name": "stdout",
     "output_type": "stream",
     "text": [
      "도착지 버튼 클릭\n"
     ]
    },
    {
     "name": "stderr",
     "output_type": "stream",
     "text": [
      "D:\\anaconda3\\lib\\site-packages\\ipykernel_launcher.py:35: DeprecationWarning: find_element_by_* commands are deprecated. Please use find_element() instead\n"
     ]
    },
    {
     "name": "stdout",
     "output_type": "stream",
     "text": [
      "도착지 클릭\n"
     ]
    },
    {
     "name": "stderr",
     "output_type": "stream",
     "text": [
      "D:\\anaconda3\\lib\\site-packages\\ipykernel_launcher.py:40: DeprecationWarning: find_elements_by_* commands are deprecated. Please use find_elements() instead\n"
     ]
    },
    {
     "name": "stdout",
     "output_type": "stream",
     "text": [
      "확인 버튼 클릭\n"
     ]
    },
    {
     "name": "stderr",
     "output_type": "stream",
     "text": [
      "D:\\anaconda3\\lib\\site-packages\\ipykernel_launcher.py:44: DeprecationWarning: find_element_by_* commands are deprecated. Please use find_element() instead\n"
     ]
    },
    {
     "name": "stdout",
     "output_type": "stream",
     "text": [
      "확정 버튼 클릭\n"
     ]
    },
    {
     "name": "stderr",
     "output_type": "stream",
     "text": [
      "D:\\anaconda3\\lib\\site-packages\\ipykernel_launcher.py:49: DeprecationWarning: find_element_by_* commands are deprecated. Please use find_element() instead\n"
     ]
    }
   ],
   "source": [
    "# 예약 설정\n",
    "reservation_config()\n",
    "time.sleep(5)"
   ]
  },
  {
   "cell_type": "code",
   "execution_count": 79,
   "metadata": {},
   "outputs": [
    {
     "name": "stderr",
     "output_type": "stream",
     "text": [
      "D:\\anaconda3\\lib\\site-packages\\ipykernel_launcher.py:3: DeprecationWarning: find_element_by_* commands are deprecated. Please use find_element() instead\n",
      "  This is separate from the ipykernel package so we can avoid doing imports until\n",
      "D:\\anaconda3\\lib\\site-packages\\ipykernel_launcher.py:6: DeprecationWarning: find_element_by_* commands are deprecated. Please use find_element() instead\n",
      "  \n",
      "D:\\anaconda3\\lib\\site-packages\\ipykernel_launcher.py:9: DeprecationWarning: find_element_by_* commands are deprecated. Please use find_element() instead\n",
      "  if __name__ == '__main__':\n",
      "D:\\anaconda3\\lib\\site-packages\\ipykernel_launcher.py:12: DeprecationWarning: find_element_by_* commands are deprecated. Please use find_element() instead\n",
      "  if sys.path[0] == '':\n",
      "D:\\anaconda3\\lib\\site-packages\\ipykernel_launcher.py:15: DeprecationWarning: find_element_by_* commands are deprecated. Please use find_element() instead\n",
      "  from ipykernel import kernelapp as app\n",
      "D:\\anaconda3\\lib\\site-packages\\ipykernel_launcher.py:18: DeprecationWarning: find_element_by_* commands are deprecated. Please use find_element() instead\n",
      "D:\\anaconda3\\lib\\site-packages\\ipykernel_launcher.py:21: DeprecationWarning: find_element_by_* commands are deprecated. Please use find_element() instead\n",
      "D:\\anaconda3\\lib\\site-packages\\ipykernel_launcher.py:24: DeprecationWarning: find_element_by_* commands are deprecated. Please use find_element() instead\n"
     ]
    }
   ],
   "source": [
    "# 예약 프로세스\n",
    "reservation_process()"
   ]
  },
  {
   "cell_type": "code",
   "execution_count": 80,
   "metadata": {},
   "outputs": [
    {
     "data": {
      "text/plain": [
       "<appium.webdriver.webdriver.WebDriver (session=\"2c638674-6580-47ae-bc9d-295b89fd9af2\")>"
      ]
     },
     "execution_count": 80,
     "metadata": {},
     "output_type": "execute_result"
    }
   ],
   "source": [
    "#앱 종료\n",
    "driver.close_app()"
   ]
  },
  {
   "cell_type": "code",
   "execution_count": null,
   "metadata": {},
   "outputs": [],
   "source": []
  }
 ],
 "metadata": {
  "kernelspec": {
   "display_name": "Python 3",
   "language": "python",
   "name": "python3"
  },
  "language_info": {
   "codemirror_mode": {
    "name": "ipython",
    "version": 3
   },
   "file_extension": ".py",
   "mimetype": "text/x-python",
   "name": "python",
   "nbconvert_exporter": "python",
   "pygments_lexer": "ipython3",
   "version": "3.7.6"
  }
 },
 "nbformat": 4,
 "nbformat_minor": 1
}
